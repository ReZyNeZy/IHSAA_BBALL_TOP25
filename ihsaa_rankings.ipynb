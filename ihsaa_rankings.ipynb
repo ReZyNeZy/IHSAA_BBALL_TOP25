{
 "cells": [
  {
   "cell_type": "code",
   "execution_count": 1,
   "id": "fd1b0e9c",
   "metadata": {
    "tags": []
   },
   "outputs": [],
   "source": [
    "urlOverall = \"https://www.maxpreps.com/in/basketball/rankings/1/\"\n",
    "\n",
    "url1A = \"https://www.maxpreps.com/in/basketball/23-24/division/class-1a/rankings/1/?statedivisionid=2aadf114-f2af-411a-a975-29edb9fe9fa4\"\n",
    "\n",
    "url2A = \"https://www.maxpreps.com/in/basketball/23-24/division/class-2a/rankings/1/?statedivisionid=5642e735-5886-4252-ab65-4dfc1d416acc\"\n",
    "\n",
    "url3A = \"https://www.maxpreps.com/in/basketball/23-24/division/class-3a/rankings/1/?statedivisionid=14b4c674-15f4-4e43-80d9-6d8f7d549de5\"\n",
    "\n",
    "url4A = \"https://www.maxpreps.com/in/basketball/23-24/division/class-4a/rankings/1/?statedivisionid=801f31aa-34dc-4de3-8419-e8373acb4c43\""
   ]
  },
  {
   "cell_type": "code",
   "execution_count": 2,
   "id": "6eadaa0f",
   "metadata": {
    "tags": []
   },
   "outputs": [],
   "source": [
    "import requests\n",
    "\n",
    "Overall = requests.get(urlOverall)\n",
    "OneA = requests.get(url1A)\n",
    "TwoA = requests.get(url2A)\n",
    "ThreeA = requests.get(url3A)\n",
    "FourA = requests.get(url4A)\n",
    "\n",
    "with open(\"rankings/Overall.html\" , \"w+\") as f:\n",
    "    f.write(Overall.text)\n",
    "with open(\"rankings/class1A.html\" , \"w+\") as f:\n",
    "    f.write(OneA.text)\n",
    "with open(\"rankings/class2A.html\" , \"w+\") as f:\n",
    "    f.write(TwoA.text)\n",
    "with open(\"rankings/class3A.html\" , \"w+\") as f:\n",
    "    f.write(ThreeA.text)\n",
    "with open(\"rankings/class4A.html\" , \"w+\") as f:\n",
    "    f.write(FourA.text)\n",
    "   \n"
   ]
  },
  {
   "cell_type": "code",
   "execution_count": 3,
   "id": "2759b62d-0512-4ca0-b27d-349554f888e4",
   "metadata": {
    "tags": []
   },
   "outputs": [],
   "source": [
    "classDivisions = [\"class1A\" , \"class2A\" , \"class3A\" , \"class4A\"]"
   ]
  },
  {
   "cell_type": "code",
   "execution_count": 4,
   "id": "326dd522-7932-4c58-acd6-2c5a37956ffc",
   "metadata": {
    "tags": []
   },
   "outputs": [],
   "source": [
    "from bs4 import BeautifulSoup"
   ]
  },
  {
   "cell_type": "code",
   "execution_count": 5,
   "id": "4d949cb1-08e2-4894-92cf-07572e73576a",
   "metadata": {
    "tags": []
   },
   "outputs": [],
   "source": [
    "with open(\"rankings/Overall.html\") as f:\n",
    "    pageOvr = f.read()\n",
    "    \n",
    "ovrSoup = BeautifulSoup(pageOvr, \"html.parser\")"
   ]
  },
  {
   "cell_type": "code",
   "execution_count": 8,
   "id": "d7d50670-f30f-4d4d-a0e7-d278305d11dd",
   "metadata": {
    "tags": []
   },
   "outputs": [],
   "source": [
    "ovrTable = ovrSoup.find(id=\"rankings\")"
   ]
  },
  {
   "cell_type": "code",
   "execution_count": 9,
   "id": "865bb73b-0afe-49ca-92b1-2b4e0fbf778a",
   "metadata": {
    "tags": []
   },
   "outputs": [],
   "source": [
    "import pandas as pd"
   ]
  },
  {
   "cell_type": "code",
   "execution_count": 30,
   "id": "fc713284-04b5-459a-960f-33bee1a5b59b",
   "metadata": {
    "tags": []
   },
   "outputs": [],
   "source": [
    "\n",
    "ovrRank = pd.read_html(str(ovrTable))[0]"
   ]
  },
  {
   "cell_type": "code",
   "execution_count": 31,
   "id": "ca95ebc3-8b19-4ef1-8d66-d9c616267d22",
   "metadata": {
    "tags": []
   },
   "outputs": [
    {
     "data": {
      "text/plain": [
       "[     #                                       School  Ovr.  Rating  Str.   +/-\n",
       " 0    1                     Cathedral (Indianapolis)  10-0   30.81  14.6   1.0\n",
       " 1    2                                      Fishers  13-0   29.98  13.4  -1.0\n",
       " 2    3                Lawrence North (Indianapolis)  10-0   27.75  11.7   NaN\n",
       " 3    4                                    Westfield   9-0   27.74  11.9   NaN\n",
       " 4    5                                  Noblesville  10-1   26.07  12.8   NaN\n",
       " 5    6                      Lake Central (St. John)  12-0   24.99   9.1   NaN\n",
       " 6    7                     Ben Davis (Indianapolis)   8-2   24.88  16.0   NaN\n",
       " 7    8              Greenfield-Central (Greenfield)  11-0   23.45   7.0   NaN\n",
       " 8    9                Franklin Community (Franklin)  10-1   21.92   9.2   4.0\n",
       " 9   10                 North Central (Indianapolis)   6-3   21.64  18.4   NaN\n",
       " 10  11            Evansville Christian (Evansville)  10-1   21.33   8.9   1.0\n",
       " 11  12                                       Tipton  12-0   21.23   4.4  -3.0\n",
       " 12  13                                       Kokomo  11-3   21.14  11.5  -2.0\n",
       " 13  14                                     Richmond  14-0   20.12   2.3   NaN\n",
       " 14  15  Indianapolis Crispus Attucks (Indianapolis)  10-3   19.99  10.7   3.0\n",
       " 15  16                                         Avon  10-3   19.47  11.0  17.0\n",
       " 16  17    Brebeuf Jesuit Preparatory (Indianapolis)   8-3   19.29  11.2   NaN\n",
       " 17  18                Warren Central (Indianapolis)   6-5   19.26  19.7   8.0\n",
       " 18  19                                New Palestine   8-2   18.89   8.8  17.0\n",
       " 19  20             Evansville Harrison (Evansville)   9-2   18.87   8.5   3.0\n",
       " 20  21                     Providence (Clarksville)  10-2   18.75   8.5  -5.0\n",
       " 21  22                      Northridge (Middlebury)  11-2   18.62   8.2  -7.0\n",
       " 22  23                             Wapahani (Selma)  11-0   18.20   0.5  -1.0\n",
       " 23  24              Hamilton Southeastern (Fishers)   8-4   18.16  13.8   1.0\n",
       " 24  25                    Park Tudor (Indianapolis)   8-2   18.12   8.1   3.0,\n",
       " [     #                                   School  Ovr.  Rating  Str.\n",
       "  0    1        Evansville Christian (Evansville)  10-1   21.33   8.9\n",
       "  1    2                                  Orleans   8-2   13.29   2.2\n",
       "  2    3                  Barr-Reeve (Montgomery)  10-1   12.80  -1.7\n",
       "  3    4     Indianapolis Lutheran (Indianapolis)   7-2   12.15   2.9\n",
       "  4    5  Greenwood Christian Academy (Greenwood)   8-3   11.41   4.1\n",
       "  5    6           Christian Academy (New Albany)  10-1    9.76  -4.5\n",
       "  6    7                                Loogootee   9-4    8.67   1.5\n",
       "  7    8                   Tindley (Indianapolis)  10-3    7.70  -2.0\n",
       "  8    9                South Central (Elizabeth)   8-3    6.71  -0.7\n",
       "  9   10                Seton Catholic (Richmond)   8-4    6.67   1.3\n",
       "  10  11             Morgan Township (Valparaiso)   9-3    6.40  -2.8\n",
       "  11  12                                   Borden   9-4    5.90  -1.7\n",
       "  12  13                               Bloomfield   8-4    5.80   0.4\n",
       "  13  14          Bethesda Christian (Brownsburg)   5-8    5.77  10.2\n",
       "  14  15             Liberty Christian (Anderson)   8-5    4.80   1.4\n",
       "  15  16                                Daleville   6-3    3.87  -1.0\n",
       "  16  17                                Clay City   7-4    3.09  -2.7\n",
       "  17  18                         Triton (Bourbon)   7-1    3.09  -9.9\n",
       "  18  19                           Tri (Straughn)   6-3    1.71  -4.8\n",
       "  19  20                Northeast Dubois (Dubois)   6-5    1.34   0.2\n",
       "  20  21                Tri-Central (Sharpsville)   7-5    1.18  -1.5\n",
       "  21  22               South Decatur (Greensburg)   7-5    1.18  -0.8\n",
       "  22  23                     Jac-Cen-Del (Osgood)   6-7    0.67   2.5\n",
       "  23  24             Wood Memorial (Oakland City)   5-4    0.61  -1.3\n",
       "  24  25       Fort Wayne Canterbury (Fort Wayne)   2-6    0.44   9.3],\n",
       " [     #                                       School  Ovr.  Rating  Str.\n",
       "  0    1                                       Tipton  12-0   21.23   4.4\n",
       "  1    2                     Providence (Clarksville)  10-2   18.75   8.5\n",
       "  2    3                             Wapahani (Selma)  11-0   18.20   0.5\n",
       "  3    4                    Park Tudor (Indianapolis)   8-2   18.12   8.1\n",
       "  4    5              Brownstown Central (Brownstown)  10-4   17.54  10.4\n",
       "  5    6         Fort Wayne Bishop Luers (Fort Wayne)   9-1   15.39   1.9\n",
       "  6    7                       Southwestern (Hanover)  12-2   14.85   1.5\n",
       "  7    8                       Adams Central (Monroe)   6-1   14.63   2.7\n",
       "  8    9  Fort Wayne Blackhawk Christian (Fort Wayne)  10-3   14.47   5.9\n",
       "  9   10                            Westview (Topeka)   8-2   12.78   3.5\n",
       "  10  11                     North Posey (Poseyville)   8-2   12.63   2.7\n",
       "  11  12                   Parke Heritage (Rockville)  10-3   12.04   2.7\n",
       "  12  13                                Hauser (Hope)  10-2   11.86   0.3\n",
       "  13  14                                        Paoli   8-1   11.62  -0.5\n",
       "  14  15                       Central Noble (Albion)   8-2   11.24   1.7\n",
       "  15  16                                     Sullivan  10-3   10.27   0.6\n",
       "  16  17       Lafayette Central Catholic (Lafayette)   7-2    9.67   1.1\n",
       "  17  18                Manchester (North Manchester)  10-2    9.62  -2.3\n",
       "  18  19                  Clinton Prairie (Frankfort)   7-2    8.44  -0.7\n",
       "  19  20                 Northeastern (Fountain City)   7-5    8.20   6.2\n",
       "  20  21                                       Hebron   9-1    7.86  -6.8\n",
       "  21  22                  21st Century Charter (Gary)   7-5    7.73   4.5\n",
       "  22  23                     Linton-Stockton (Linton)   9-4    7.41   0.3\n",
       "  23  24                                       Wabash   8-3    7.05  -0.9\n",
       "  24  25                   North Decatur (Greensburg)   9-5    6.93   1.9],\n",
       " [     #                                      School  Ovr.  Rating  Str.\n",
       "  0    1   Brebeuf Jesuit Preparatory (Indianapolis)   8-3   19.29  11.2\n",
       "  1    2               Guerin Catholic (Noblesville)  10-4   17.92  11.4\n",
       "  2    3               Heritage Hills (Lincoln City)  12-1   17.28   3.4\n",
       "  3    4                              Delta (Muncie)  10-2   17.26   5.9\n",
       "  4    5                                    Danville  11-1   17.20   4.6\n",
       "  5    6                                  Scottsburg  10-3   15.55   5.8\n",
       "  6    7                    Southridge (Huntingburg)  10-1   14.48   1.9\n",
       "  7    8           Heritage Christian (Indianapolis)   7-3   13.29   8.2\n",
       "  8    9                    Indian Creek (Trafalgar)  11-1   13.20  -1.1\n",
       "  9   10            Evansville Memorial (Evansville)   6-4   13.08   9.5\n",
       "  10  11                        NorthWood (Nappanee)   8-3   13.02   6.5\n",
       "  11  12                                   Princeton   9-3   12.39   3.7\n",
       "  12  13                  Silver Creek (Sellersburg)   8-3   12.22   4.3\n",
       "  13  14                                  Batesville   8-3   11.86   4.4\n",
       "  14  15               Hammond Bishop Noll (Hammond)   9-6   11.82   9.0\n",
       "  15  16          South Bend Washington (South Bend)   8-3   11.69   5.1\n",
       "  16  17                 Tri-West Hendricks (Lizton)   9-3   11.51   4.2\n",
       "  17  18                          Bellmont (Decatur)  11-3   10.30   0.1\n",
       "  18  19                                    Yorktown   6-5   10.21   9.3\n",
       "  19  20  Indianapolis Bishop Chatard (Indianapolis)   5-4    9.93   9.4\n",
       "  20  21                                  Greensburg   8-4    9.75   5.6\n",
       "  21  22                   Culver Academies (Culver)   5-3    9.72   7.3\n",
       "  22  23     Christel House at Manual (Indianapolis)   3-0    9.45  -6.3\n",
       "  23  24                            Norwell (Ossian)   7-4    9.14   6.3\n",
       "  24  25        Purdue Poly Englewood (Indianapolis)   4-1    8.38  -1.1],\n",
       " [     #                                       School  Ovr.  Rating  Str.\n",
       "  0    1                     Cathedral (Indianapolis)  10-0   30.81  14.6\n",
       "  1    2                                      Fishers  13-0   29.98  13.4\n",
       "  2    3                Lawrence North (Indianapolis)  10-0   27.75  11.7\n",
       "  3    4                                    Westfield   9-0   27.74  11.9\n",
       "  4    5                                  Noblesville  10-1   26.07  12.8\n",
       "  5    6                      Lake Central (St. John)  12-0   24.99   9.1\n",
       "  6    7                     Ben Davis (Indianapolis)   8-2   24.88  16.0\n",
       "  7    8              Greenfield-Central (Greenfield)  11-0   23.45   7.0\n",
       "  8    9                Franklin Community (Franklin)  10-1   21.92   9.2\n",
       "  9   10                 North Central (Indianapolis)   6-3   21.64  18.4\n",
       "  10  11                                       Kokomo  11-3   21.14  11.5\n",
       "  11  12                                     Richmond  14-0   20.12   2.3\n",
       "  12  13  Indianapolis Crispus Attucks (Indianapolis)  10-3   19.99  10.7\n",
       "  13  14                                         Avon  10-3   19.47  11.0\n",
       "  14  15                Warren Central (Indianapolis)   6-5   19.26  19.7\n",
       "  15  16                                New Palestine   8-2   18.89   8.8\n",
       "  16  17             Evansville Harrison (Evansville)   9-2   18.87   8.5\n",
       "  17  18                      Northridge (Middlebury)  11-2   18.62   8.2\n",
       "  18  19              Hamilton Southeastern (Fishers)   8-4   18.16  13.8\n",
       "  19  20                South Bend Riley (South Bend)  13-3   17.87   7.9\n",
       "  20  21                                  Crown Point   7-3   17.76  12.5\n",
       "  21  22                                   Valparaiso  11-3   17.41   8.8\n",
       "  22  23                                     Anderson   9-2   17.28   6.8\n",
       "  23  24                                   Plainfield   9-4   17.01   9.9\n",
       "  24  25               Decatur Central (Indianapolis)   7-2   16.97   9.1]]"
      ]
     },
     "execution_count": 31,
     "metadata": {},
     "output_type": "execute_result"
    }
   ],
   "source": [
    "Rankings = []\n",
    "\n",
    "Rankings.append(ovrRank)\n",
    "\n",
    "for classDivision in classDivisions:\n",
    "    with open(\"rankings/{}.html\".format(classDivision)) as f:\n",
    "        page = f.read()\n",
    "    cdSoup = BeautifulSoup(page , \"html.parser\")\n",
    "    cdTable = cdSoup.find(id=\"rankings\")\n",
    "    cdRanking = pd.read_html(str(cdTable))\n",
    "    \n",
    "    Rankings.append(cdRanking)\n",
    "\n",
    "Rankings\n",
    "\n",
    "    \n",
    "    "
   ]
  }
 ],
 "metadata": {
  "kernelspec": {
   "display_name": "Python 3 (ipykernel)",
   "language": "python",
   "name": "python3"
  },
  "language_info": {
   "codemirror_mode": {
    "name": "ipython",
    "version": 3
   },
   "file_extension": ".py",
   "mimetype": "text/x-python",
   "name": "python",
   "nbconvert_exporter": "python",
   "pygments_lexer": "ipython3",
   "version": "3.11.5"
  }
 },
 "nbformat": 4,
 "nbformat_minor": 5
}
